{
 "cells": [
  {
   "cell_type": "code",
   "execution_count": 1,
   "metadata": {
    "ExecuteTime": {
     "end_time": "2021-01-25T15:41:08.821957Z",
     "start_time": "2021-01-25T15:41:07.597010Z"
    }
   },
   "outputs": [],
   "source": [
    "import numpy as np\n",
    "import matplotlib\n",
    "import matplotlib.pyplot as plt"
   ]
  },
  {
   "cell_type": "code",
   "execution_count": 30,
   "metadata": {
    "ExecuteTime": {
     "end_time": "2021-01-25T20:24:56.833018Z",
     "start_time": "2021-01-25T20:24:56.824697Z"
    }
   },
   "outputs": [],
   "source": [
    "def gaussion_1d(x, amp, cen, norm):\n",
    "    '''\n",
    "    Calculate 1d gaussian function for given x\n",
    "    \n",
    "    param: x\n",
    "    param: amp\n",
    "    param: cen\n",
    "    param: norm\n",
    "    \n",
    "    return: function\n",
    "    '''\n",
    "\n",
    "    return amp * np.exp(-(x-cen)**2/(2*norm**2))\n",
    "\n",
    "\n",
    "def gaussian_2d(x, y, amp, cen, norm):\n",
    "    '''\n",
    "    Calculate 2d gaussian function for given x,y\n",
    "    \n",
    "    param: x - 1d np array\n",
    "    param: y - 1d np array\n",
    "    param: amp - 2d list\n",
    "    param: cen - 2d list\n",
    "    param: norm - 2d list\n",
    "    \n",
    "    return: scalar function\n",
    "    '''\n",
    "    x, y = np.meshgrid(x, y)\n",
    "    return gaussion_1d(x, amp[0], cen[0], norm[0]) * gaussion_1d(y, amp[1], cen[1], norm[1])\n",
    "\n",
    "\n",
    "def inspector(matrix):\n",
    "    fig, axes = plt.subplots()\n",
    "\n",
    "    im = axes.imshow(matrix,\n",
    "                     cmap=\"viridis\")\n",
    "\n",
    "    fig.colorbar(im)\n",
    "\n",
    "\n"
   ]
  },
  {
   "cell_type": "code",
   "execution_count": 31,
   "metadata": {
    "ExecuteTime": {
     "end_time": "2021-01-25T20:24:58.530782Z",
     "start_time": "2021-01-25T20:24:58.522847Z"
    }
   },
   "outputs": [],
   "source": []
  },
  {
   "cell_type": "code",
   "execution_count": 29,
   "metadata": {
    "ExecuteTime": {
     "end_time": "2021-01-25T20:24:39.523205Z",
     "start_time": "2021-01-25T20:24:39.516224Z"
    }
   },
   "outputs": [],
   "source": [
    "x, y = np.meshgrid(np.linspace(-20, 20, 100), np.linspace(-20, 20, 100))"
   ]
  },
  {
   "cell_type": "code",
   "execution_count": 26,
   "metadata": {
    "ExecuteTime": {
     "end_time": "2021-01-25T20:23:38.821186Z",
     "start_time": "2021-01-25T20:23:38.811212Z"
    }
   },
   "outputs": [
    {
     "data": {
      "text/plain": [
       "(100, 100)"
      ]
     },
     "execution_count": 26,
     "metadata": {},
     "output_type": "execute_result"
    }
   ],
   "source": [
    "m.shape"
   ]
  },
  {
   "cell_type": "code",
   "execution_count": 32,
   "metadata": {
    "ExecuteTime": {
     "end_time": "2021-01-25T20:24:59.440884Z",
     "start_time": "2021-01-25T20:24:59.434895Z"
    }
   },
   "outputs": [],
   "source": []
  },
  {
   "cell_type": "code",
   "execution_count": 33,
   "metadata": {
    "ExecuteTime": {
     "end_time": "2021-01-25T20:24:59.966592Z",
     "start_time": "2021-01-25T20:24:59.720183Z"
    }
   },
   "outputs": [
    {
     "data": {
      "image/png": "[encoded data removed]",
      "text/plain": [
       "<Figure size 432x288 with 2 Axes>"
      ]
     },
     "metadata": {
      "needs_background": "light"
     },
     "output_type": "display_data"
    }
   ],
   "source": []
  },
  {
   "cell_type": "code",
   "execution_count": 36,
   "metadata": {
    "ExecuteTime": {
     "end_time": "2021-01-25T20:32:30.196177Z",
     "start_time": "2021-01-25T20:32:29.997675Z"
    }
   },
   "outputs": [
    {
     "data": {
      "image/png": "[encoded data removed]",
      "text/plain": [
       "<Figure size 432x288 with 2 Axes>"
      ]
     },
     "metadata": {
      "needs_background": "light"
     },
     "output_type": "display_data"
    }
   ],
   "source": [
    "def _example():\n",
    "    m = gaussian_2d(np.linspace(-20, 20, 100), \n",
    "                    np.linspace(-20, 20, 100), \n",
    "                    np.array([1,1]), \n",
    "                    np.array([10,10]), \n",
    "                    np.array([1,1]))\n",
    "\n",
    "    inspector(m)\n",
    "\n",
    "\n",
    "if __name__ == '__main__':\n",
    "    _example()"
   ]
  },
  {
   "cell_type": "code",
   "execution_count": null,
   "metadata": {},
   "outputs": [],
   "source": []
  }
 ],
 "metadata": {
  "kernelspec": {
   "display_name": "Python 3",
   "language": "python",
   "name": "python3"
  },
  "language_info": {
   "codemirror_mode": {
    "name": "ipython",
    "version": 3
   },
   "file_extension": ".py",
   "mimetype": "text/x-python",
   "name": "python",
   "nbconvert_exporter": "python",
   "pygments_lexer": "ipython3",
   "version": "3.8.5"
  },
  "toc": {
   "base_numbering": 1,
   "nav_menu": {},
   "number_sections": true,
   "sideBar": true,
   "skip_h1_title": false,
   "title_cell": "Table of Contents",
   "title_sidebar": "Contents",
   "toc_cell": false,
   "toc_position": {},
   "toc_section_display": true,
   "toc_window_display": false
  }
 },
 "nbformat": 4,
 "nbformat_minor": 4
}
